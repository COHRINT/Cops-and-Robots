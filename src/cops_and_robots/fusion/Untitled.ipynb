{
 "cells": [
  {
   "cell_type": "code",
   "execution_count": 7,
   "metadata": {
    "collapsed": false
   },
   "outputs": [
    {
     "name": "stdout",
     "output_type": "stream",
     "text": [
      "The slowest run took 8.69 times longer than the fastest. This could mean that an intermediate result is being cached \n",
      "100000 loops, best of 3: 3.78 µs per loop\n",
      "[[  2.71828183e+00   7.38905610e+00   2.00855369e+01]\n",
      " [  5.45981500e+01   1.48413159e+02   4.03428793e+02]\n",
      " [  1.09663316e+03   2.98095799e+03   8.10308393e+03]]\n"
     ]
    }
   ],
   "source": [
    "import numpy as np\n",
    "%timeit np.exp(np.array([[1,2,3], [4,5,6], [7,8,9]]))\n",
    "print np.exp(np.array([[1,2,3], [4,5,6], [7,8,9]]))"
   ]
  }
 ],
 "metadata": {
  "kernelspec": {
   "display_name": "Python 2",
   "language": "python",
   "name": "python2"
  },
  "language_info": {
   "codemirror_mode": {
    "name": "ipython",
    "version": 2
   },
   "file_extension": ".py",
   "mimetype": "text/x-python",
   "name": "python",
   "nbconvert_exporter": "python",
   "pygments_lexer": "ipython2",
   "version": "2.7.8"
  }
 },
 "nbformat": 4,
 "nbformat_minor": 0
}
