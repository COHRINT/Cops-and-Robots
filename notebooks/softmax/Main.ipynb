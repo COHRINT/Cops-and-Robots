{
 "cells": [
  {
   "cell_type": "markdown",
   "metadata": {},
   "source": [
    "# SoftMax Distributions for Human-Robot Interaction\n",
    "\n",
    "This iPython Notebook is a living document that details the development and usage of SoftMax distributions -- a powerful tool to probabilistically decompose state spaces.\n",
    "\n",
    "**DISCLAIMER**: This document's current status is **in development**. That means code might be broken, text may have typos, and math might be missing/wrong. Read this as ongoing research notes until this disclaimer is removed.\n",
    "\n",
    "**NOTE**: While you can read this document as-is using nbviewer, the best way to read it is by downloading the `.ipynb` files and associated code from [the project's GitHub repository](https://github.com/COHRINT/cops_and_robots), then running `ipython notebook` locally.\n",
    "\n",
    "The notebook is publically available at http://nbviewer.ipython.org/github/COHRINT/cops_and_robots/blob/master/notebooks/softmax/Main.ipynb\n",
    "\n",
    "## [Chapter 1 - Introduction to SoftMax Distributions](01_intro.ipynb)\n",
    "We look at the basics of why you'd want to use SoftMax distributions, how to make them, and what their general basic properties are.\n",
    "\n",
    "## [Chapter 2 - Using Normals Instead of Weights](02_from_normals.ipynb)\n",
    "Instead of defining weights by hand, we show other ways to create SoftMax distributions: using vector normals.\n",
    "\n",
    "## [Chapter 3 - Building SoftMax Distributions from Templates](03_from_templates.ipynb)\n",
    "We can abstract the SoftMax distribution creation even further using templates.\n",
    "\n",
    "## [Chapter 4 - Subclassing and Superclassing: Multimodal SoftMax](04_mms.ipynb)\n",
    "SoftMax distributions can be overly simplistic for some models, so we investigate ways to modify SoftMax distributions for general, non-symmetric cases.\n",
    "\n",
    "## [Chapter 5 - Learning SoftMax Distributions from Data](05_from_data.ipynb)\n",
    "TODO\n",
    "\n",
    "## [Chapter 6 - Shaping with Class Boundary Priors](06_priors.ipynb)\n",
    "TODO\n",
    "\n",
    "## [Chapter 7 - Using Symmetry](07_symmetry.ipynb)\n",
    "TODO\n",
    "\n",
    "## [Chapter 8 - N-Dimensional SoftMax](08_n_dimensions.ipynb)\n",
    "TODO"
   ]
  },
  {
   "cell_type": "code",
   "execution_count": 1,
   "metadata": {
    "collapsed": false
   },
   "outputs": [
    {
     "data": {
      "text/html": [
       "<link href='http://fonts.googleapis.com/css?family=Roboto:100,100italic,500,300,300italic,400' rel='stylesheet' type='text/css'>\n",
       "\n",
       "<style>\n",
       "    div.cell{\n",
       "        width:800px;\n",
       "        margin-left:16% !important;\n",
       "        margin-right:auto;\n",
       "    }\n",
       "    h1, h2, h3, h4 {\n",
       "        font-family: \"Roboto\", \"wingdings\", sans-serif;\n",
       "    }\n",
       "    h1{\n",
       "        font-weight: 500;\n",
       "    }\n",
       "    h2{\n",
       "        font-weight: 400;\n",
       "    }\n",
       "    h3{\n",
       "        font-weight: 300 !important; \n",
       "/*         font-style: italic; */\n",
       "    }    \n",
       "    h4{\n",
       "        font-weight: 300 !important;\n",
       "        font-style: italic;\n",
       "        margin-top:12px;\n",
       "        margin-bottom: 3px;\n",
       "       }\n",
       "    div.text_cell_render{\n",
       "        font-family: \"HelveticaNeue-light\", \"Helvetica Neue\", Arial, Helvetica, Geneva, sans-serif;\n",
       "        line-height: 145%;\n",
       "        font-size: 120%;\n",
       "        width:800px;\n",
       "        margin-left:auto;\n",
       "        margin-right:auto;\n",
       "    }\n",
       "    .CodeMirror{\n",
       "            font-family: \"Source Code Pro\", source-code-pro,Consolas, monospace;\n",
       "    }\n",
       "    .prompt{\n",
       "        display: None;\n",
       "    }\n",
       "    .text_cell_render h5 {\n",
       "        font-weight: 300;\n",
       "        font-size: 22pt;\n",
       "        color: #4057A1;\n",
       "        font-style: italic;\n",
       "        margin-bottom: .5em;\n",
       "        margin-top: 0.5em;\n",
       "        display: block;\n",
       "    }\n",
       "    \n",
       "    .warning{\n",
       "        color: rgb( 240, 20, 20 )\n",
       "        }  \n",
       "</style>\n",
       "<script>\n",
       "    MathJax.Hub.Config({\n",
       "                        TeX: {\n",
       "                           extensions: [\"AMSmath.js\"]\n",
       "                           },\n",
       "                tex2jax: {\n",
       "                    inlineMath: [ ['$','$'], [\"\\\\(\",\"\\\\)\"] ],\n",
       "                    displayMath: [ ['$$','$$'], [\"\\\\[\",\"\\\\]\"] ]\n",
       "                },\n",
       "                displayAlign: 'center', // Change this to 'center' to center equations.\n",
       "                \"HTML-CSS\": {\n",
       "                    styles: {'.MathJax_Display': {\"margin\": 4}}\n",
       "                }\n",
       "        });\n",
       "</script>"
      ],
      "text/plain": [
       "<IPython.core.display.HTML object>"
      ]
     },
     "execution_count": 1,
     "metadata": {},
     "output_type": "execute_result"
    }
   ],
   "source": [
    "from IPython.core.display import HTML\n",
    "\n",
    "# Borrowed style from Probabilistic Programming and Bayesian Methods for Hackers\n",
    "def css_styling():\n",
    "    styles = open(\"../styles/custom.css\", \"r\").read()\n",
    "    return HTML(styles)\n",
    "css_styling()"
   ]
  }
 ],
 "metadata": {
  "kernelspec": {
   "display_name": "Python 2",
   "language": "python",
   "name": "python2"
  },
  "language_info": {
   "codemirror_mode": {
    "name": "ipython",
    "version": 2
   },
   "file_extension": ".py",
   "mimetype": "text/x-python",
   "name": "python",
   "nbconvert_exporter": "python",
   "pygments_lexer": "ipython2",
   "version": "2.7.8"
  }
 },
 "nbformat": 4,
 "nbformat_minor": 0
}
