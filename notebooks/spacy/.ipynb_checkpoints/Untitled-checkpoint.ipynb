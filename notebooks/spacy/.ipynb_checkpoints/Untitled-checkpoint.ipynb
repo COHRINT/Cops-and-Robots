{
 "cells": [
  {
   "cell_type": "markdown",
   "metadata": {},
   "source": [
    "## Usage\n",
    "1. User interface allows generation of utterances\n",
    "2. Mapping user utterance $\\lambda$ to Softmax model (i.e. \"I see the target directly ahead\")\n",
    "  1. Decompose utterence $\\lambda$ to labels: grounding $g_l$, target $t_l$ and relation $r_l$\n",
    "  2. Find categories from labels (i.e. map $t_l$ to $t_c \\in T$, where $T = \\{'Roy','Pris','Leon','a robber'\\}$\n",
    "    1. Find vector representation of each label\n",
    "    2. Comparie cosine similarity with each category, take most likely\n",
    "  3. Apply SoftMax model $P(L=r_c \\vert x)$, grounded at $g_c$ for target $t_c$ to update probability\n",
    "  \n",
    "\n",
    "## Learning\n",
    "For range modeling:\n",
    "1. Get labeled xy data points (known xy, ask humans for labels)\n",
    "2. Cluster xy data points using k-means (*unknown k - same as # of SoftMax distros* )\n",
    "3. For each cluster, find average of all labels within the cluster (using same method as 2.2 above)\n",
    "4. Given the mean vector for a cluster, assign that token to that cluster as the category\n",
    "\n",
    "## Questions\n",
    "1. How do we select the k in k-means? Can this be a data-driven approach?\n",
    "1. Can we still use nice things like symmetry and polygon constructions to minimize data needed for calibration?\n",
    "1. Are we still talking about calibration, or model generation?\n",
    "1. If we can use polygon constructions, can we move away from them? Maybe towards occupancy maps, object recognition?"
   ]
  }
 ],
 "metadata": {
  "kernelspec": {
   "display_name": "Python 2",
   "language": "python",
   "name": "python2"
  },
  "language_info": {
   "codemirror_mode": {
    "name": "ipython",
    "version": 2
   },
   "file_extension": ".py",
   "mimetype": "text/x-python",
   "name": "python",
   "nbconvert_exporter": "python",
   "pygments_lexer": "ipython2",
   "version": "2.7.8"
  }
 },
 "nbformat": 4,
 "nbformat_minor": 0
}
