{
 "cells": [
  {
   "cell_type": "markdown",
   "metadata": {},
   "source": [
    "## Expectation Maximization\n",
    "\n",
    "To illustrate the Expectation Maximization (EM) process, we first generate four distributions, shown by their sample points:"
   ]
  },
  {
   "cell_type": "code",
   "execution_count": null,
   "metadata": {
    "collapsed": true
   },
   "outputs": [],
   "source": [
    "# data \n",
    "import numpy as np\n",
    "import matplotlib.mlab as mlab\n",
    "import matplotlib.pyplot as plt\n",
    "%matplotlib inline\n",
    "\n",
    "class Distribution(object):\n",
    "    def __init__(self, color):\n",
    "        self.color = color\n",
    "\n",
    "num_gaussians = 4\n",
    "pi = np.array([0.1, 0.3, 0.2, 0.3])\n",
    "num_samples = 10000\n",
    "\n",
    "mu = ([1.7, .5],\n",
    "       [2, 4],\n",
    "       [0, 6],\n",
    "       [5, 6]\n",
    "     )\n",
    "sigma = ([[.9, 0], [0, .5]],\n",
    "         [[.4, .3], [.3, .5]],\n",
    "         [[2, .7], [.2, .8]],\n",
    "         [[.6, .6], [.3, .6]]\n",
    "        )\n",
    "\n",
    "distributions = {}\n",
    "colors = ['r','g','b','y']\n",
    "for i in range(num_gaussians):\n",
    "    name = 'Sampled Distribution {}'.format(i + 1)\n",
    "    distributions[name] = Distribution(colors[i])\n",
    "    \n",
    "    distributions[name].samples = np.random.multivariate_normal(\n",
    "        mu[i], sigma[i], int(pi[i] * num_samples))\n",
    "    \n",
    "# Plot everything\n",
    "fig, ax = plt.subplots()\n",
    "for name, distribution in distributions.iteritems():\n",
    "    ax.scatter(distribution.samples[:,0],\n",
    "            distribution.samples[:,1],\n",
    "            c=distribution.color,\n",
    "            s=20,\n",
    "            lw=0\n",
    "            )\n",
    "ax.set_title('Sampled distributions')"
   ]
  },
  {
   "cell_type": "markdown",
   "metadata": {},
   "source": [
    "Next, we try to approximate these distributions using EM. At a high level, the algorithm iterates between two steps:\n",
    "\n",
    "**Expecation Step:**\n",
    "Using fixed parameters, compute the expected value of the log-likelihood of the observed data (its *responsibility*) for each.\n",
    "\n",
    "**Maximization Step**\n",
    "Estimate the parameters that maximize the expected value of the log-likelihood of the observed data.\n",
    "\n",
    "If converged after the maximization step, exit."
   ]
  },
  {
   "cell_type": "code",
   "execution_count": null,
   "metadata": {
    "collapsed": true
   },
   "outputs": [],
   "source": [
    "# Initial setup\n",
    "K = 4  # <>But how do we know?\n",
    "mu_hats = []\n",
    "sigma_hats = []\n",
    "pi_hats = []\n",
    "for k in range(K):\n",
    "    mu_hats.append(np.rand.randint(-10,10))\n",
    "    sigma_hats.append(np.eye(2))\n",
    "    pi_hat\n",
    "    "
   ]
  },
  {
   "cell_type": "code",
   "execution_count": 1,
   "metadata": {
    "collapsed": false
   },
   "outputs": [
    {
     "data": {
      "text/html": [
       "<link href='http://fonts.googleapis.com/css?family=Roboto:100,100italic,500,300,300italic,400' rel='stylesheet' type='text/css'>\n",
       "\n",
       "<style>\n",
       "    div.cell{\n",
       "        width:800px;\n",
       "        margin-left:16% !important;\n",
       "        margin-right:auto;\n",
       "    }\n",
       "    h1, h2, h3, h4 {\n",
       "        font-family: \"Roboto\", \"wingdings\", sans-serif;\n",
       "    }\n",
       "    h1{\n",
       "        font-weight: 500;\n",
       "    }\n",
       "    h2{\n",
       "        font-weight: 400;\n",
       "    }\n",
       "    h3{\n",
       "        font-weight: 300 !important; \n",
       "/*         font-style: italic; */\n",
       "    }    \n",
       "    h4{\n",
       "        font-weight: 300 !important;\n",
       "        font-style: italic;\n",
       "        margin-top:12px;\n",
       "        margin-bottom: 3px;\n",
       "       }\n",
       "    div.text_cell_render{\n",
       "        font-family: \"HelveticaNeue-light\", \"Helvetica Neue\", Arial, Helvetica, Geneva, sans-serif;\n",
       "        line-height: 145%;\n",
       "        font-size: 120%;\n",
       "        width:800px;\n",
       "        margin-left:auto;\n",
       "        margin-right:auto;\n",
       "    }\n",
       "    .CodeMirror{\n",
       "            font-family: \"Source Code Pro\", source-code-pro,Consolas, monospace;\n",
       "    }\n",
       "    .prompt{\n",
       "        display: None;\n",
       "    }\n",
       "    .text_cell_render h5 {\n",
       "        font-weight: 300;\n",
       "        font-size: 22pt;\n",
       "        color: #4057A1;\n",
       "        font-style: italic;\n",
       "        margin-bottom: .5em;\n",
       "        margin-top: 0.5em;\n",
       "        display: block;\n",
       "    }\n",
       "    \n",
       "    .warning{\n",
       "        color: rgb( 240, 20, 20 )\n",
       "        }  \n",
       "        \n",
       "    .rounded-box{\n",
       "    border-radius: 25px; \n",
       "    border: 2px solid #8AC007;\n",
       "    padding: 10px;\n",
       "    padding-top: 0px;\n",
       "    }\n",
       "</style>\n",
       "<script>\n",
       "    MathJax.Hub.Config({\n",
       "                        TeX: {\n",
       "                           extensions: [\"AMSmath.js\"]\n",
       "                           },\n",
       "                tex2jax: {\n",
       "                    inlineMath: [ ['$','$'], [\"\\\\(\",\"\\\\)\"] ],\n",
       "                    displayMath: [ ['$$','$$'], [\"\\\\[\",\"\\\\]\"] ]\n",
       "                },\n",
       "                displayAlign: 'center', // Change this to 'center' to center equations.\n",
       "                \"HTML-CSS\": {\n",
       "                    styles: {'.MathJax_Display': {\"margin\": 4}}\n",
       "                }\n",
       "        });\n",
       "</script>"
      ],
      "text/plain": [
       "<IPython.core.display.HTML object>"
      ]
     },
     "execution_count": 1,
     "metadata": {},
     "output_type": "execute_result"
    }
   ],
   "source": [
    "from IPython.core.display import HTML\n",
    "\n",
    "# Borrowed style from Probabilistic Programming and Bayesian Methods for Hackers\n",
    "def css_styling():\n",
    "    styles = open(\"../styles/custom.css\", \"r\").read()\n",
    "    return HTML(styles)\n",
    "css_styling()"
   ]
  }
 ],
 "metadata": {
  "kernelspec": {
   "display_name": "Python 2",
   "language": "python",
   "name": "python2"
  },
  "language_info": {
   "codemirror_mode": {
    "name": "ipython",
    "version": 2
   },
   "file_extension": ".py",
   "mimetype": "text/x-python",
   "name": "python",
   "nbconvert_exporter": "python",
   "pygments_lexer": "ipython2",
   "version": "2.7.8"
  }
 },
 "nbformat": 4,
 "nbformat_minor": 0
}
