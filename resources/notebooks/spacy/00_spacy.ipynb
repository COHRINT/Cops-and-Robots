{
 "cells": [
  {
   "cell_type": "markdown",
   "metadata": {},
   "source": [
    "# Playing around with spaCy\n",
    "[spaCy](https://honnibal.github.io/spaCy/quickstart.html)\n",
    "\n",
    "Using the basic introduction to spaCy, then playting with it. Let's load spaCy's english dictionary."
   ]
  },
  {
   "cell_type": "code",
   "execution_count": 1,
   "metadata": {
    "collapsed": false
   },
   "outputs": [],
   "source": [
    "from __future__ import unicode_literals # If Python 2\n",
    "import spacy.en\n",
    "from spacy.tokens import Token\n",
    "from spacy.parts_of_speech import ADV\n",
    "\n",
    "nlp = spacy.en.English()\n",
    "\n",
    "# Find log probability of Nth most frequent word\n",
    "probs = [lex.prob for lex in nlp.vocab]\n",
    "probs.sort()\n",
    "words = [w for w in nlp.vocab if hasattr(w,'repvec')]#if w.has_repvec]"
   ]
  },
  {
   "cell_type": "markdown",
   "metadata": {},
   "source": [
    "spaCy tokenizes words, then treats each token as a Token object. Each token has an integer and string representation. Each token also has things like:\n",
    "\n",
    "* **orth**\n",
    "  * The form of the word with no string normalization or processing, as it appears in the string, without trailing whitespace. i.e. \" Frank \" -> \"frank\"\n",
    "* **head**\n",
    "  * The Token that is the immediate syntactic head of the word. If the word is the root of the dependency tree, the same word is returned.\n",
    "* **lemma**\n",
    "  * The “base” of the word, with no inflectional suffixes, e.g. the lemma of “developing” is “develop”, the lemma of “geese” is “goose”, etc. Note that derivational suffixes are not stripped, e.g. the lemma of “instutitions” is “institution”, not “institute”. Lemmatization is performed using the WordNet data, but extended to also cover closed-class words such as pronouns. By default, the WN lemmatizer returns “hi” as the lemma of “his”. We assign pronouns the lemma -PRON-.\n",
    "* **prob**\n",
    "  * The unigram log-probability of the word, estimated from counts from a large corpus, smoothed using Simple Good Turing estimation.\n",
    "* **cluster**\n",
    "  * The Brown cluster ID of the word. These are often useful features for linear models. If you’re using a non-linear model, particularly a neural net or random forest, consider using the real-valued word representation vector, in Token.repvec, instead.\n",
    "* **repvec**\n",
    "  * A “word embedding” representation: a dense real-valued vector that supports similarity queries between words. By default, spaCy currently loads vectors produced by the Levy and Goldberg (2014) dependency-based word2vec model.\n",
    " "
   ]
  },
  {
   "cell_type": "code",
   "execution_count": 2,
   "metadata": {
    "collapsed": false
   },
   "outputs": [
    {
     "name": "stdout",
     "output_type": "stream",
     "text": [
      "(2000, u'ran', 1258, u'explain')\n",
      "(1417, u'quickly', 1417, u'quickly')\n",
      "(u'ran', u'run')\n",
      "(-9.881199836730957, -8.156776428222656, -9.366089820861816)\n",
      "(170, 437, 16106)\n"
     ]
    }
   ],
   "source": [
    "tokens = nlp(u'\"I ran to the wall quickly,\" Frank explained to the robot.')\n",
    "ran = tokens[2]\n",
    "quickly = tokens[6]\n",
    "run = nlp(ran.lemma_)[0]\n",
    "\n",
    "# the integer and string representations of \"moved\" and its head\n",
    "print (ran.orth, ran.orth_, ran.head.lemma, ran.head.lemma_)\n",
    "print (quickly.orth, quickly.orth_, quickly.lemma, quickly.lemma_,)\n",
    "print (quickly.head.orth_, quickly.head.lemma_)\n",
    "print (ran.prob, run.prob, quickly.prob)\n",
    "print (ran.cluster, run.cluster, quickly.cluster)"
   ]
  },
  {
   "cell_type": "markdown",
   "metadata": {},
   "source": [
    "Given a test sentence (in this case: **\"I ran to the wall quickly,\" Frank explained to the robot.**), we can highlight parts of speech (i.e. adverbs):"
   ]
  },
  {
   "cell_type": "code",
   "execution_count": 3,
   "metadata": {
    "collapsed": false
   },
   "outputs": [
    {
     "name": "stdout",
     "output_type": "stream",
     "text": [
      "\"I ran to the wall QUICKLY,\" Frank explained to the robot.\n"
     ]
    }
   ],
   "source": [
    "is_adverb = lambda tok: tok.pos == ADV and tok.prob < probs[-100]\n",
    "str_ = u'\"I ran to the wall quickly,\" Frank explained to the robot.'\n",
    "tokens = nlp(str_)\n",
    "print u''.join(tok.string.upper() if is_adverb(tok) else tok.string for tok in tokens)\n",
    "quickly = tokens[6]"
   ]
  },
  {
   "cell_type": "markdown",
   "metadata": {},
   "source": [
    "Find similar words to 'quickly' via [cosine similarity](http://en.wikipedia.org/wiki/Cosine_similarity):"
   ]
  },
  {
   "cell_type": "code",
   "execution_count": 5,
   "metadata": {
    "collapsed": false
   },
   "outputs": [
    {
     "name": "stdout",
     "output_type": "stream",
     "text": [
      "1-20:\n",
      "uncontrollably\n",
      "secondly\n",
      "traditionally\n",
      "Mainly\n",
      "pedantic\n",
      "believable\n",
      "snarky\n",
      "Enough\n",
      "Large\n",
      "sincere\n",
      "50k\n",
      "smiled\n",
      "1x\n",
      "illogical\n",
      "tremendous\n",
      "ingame\n",
      "OUR\n",
      "backward\n",
      "stared\n",
      "hella\n",
      "\n",
      "50-60:\n",
      "Had\n",
      "busy\n",
      "Imagine\n",
      "considering\n",
      "Considering\n",
      "saying\n",
      "She\n",
      "moved\n",
      "let\n",
      "come\n",
      "\n",
      "100-110:\n",
      "easiest\n",
      "deep\n",
      "incredible\n",
      "screwed\n",
      "relate\n",
      "til\n",
      "Yeah\n",
      "devices\n",
      "nuts\n",
      "pointless\n",
      "\n",
      "1000-1010:\n",
      "Thanks\n",
      "cast\n",
      "stars\n",
      "sentence\n",
      "life\n",
      "Life\n",
      "split\n",
      "dark\n",
      "dance\n",
      "exercise\n",
      "\n",
      "50000-50010:\n",
      "Day[9\n",
      "leaver\n",
      "Nujabes\n",
      "MyTrack\n",
      "emigrated\n",
      "Javier\n",
      "buckles\n",
      "bicyclist\n",
      "tuvan\n",
      "C-\n"
     ]
    },
    {
     "name": "stderr",
     "output_type": "stream",
     "text": [
      "/Users/nick/anaconda/envs/python_2_7/lib/python2.7/site-packages/ipykernel/__main__.py:4: RuntimeWarning: invalid value encountered in float_scalars\n"
     ]
    }
   ],
   "source": [
    "from numpy import dot\n",
    "from numpy.linalg import norm\n",
    "\n",
    "cosine = lambda v1, v2: dot(v1, v2) / (norm(v1) * norm(v2))\n",
    "words.sort(key=lambda w: cosine(w.vector, quickly.vector))\n",
    "words.reverse()\n",
    "\n",
    "print('1-20:')\n",
    "print('\\n'.join(w.orth_ for w in words[0:20]))\n",
    "print('\\n50-60:')\n",
    "print('\\n'.join(w.orth_ for w in words[50:60]))\n",
    "print('\\n100-110:')\n",
    "print('\\n'.join(w.orth_ for w in words[100:110]))\n",
    "print('\\n1000-1010:')\n",
    "print('\\n'.join(w.orth_ for w in words[1000:1010]))\n",
    "print('\\n50000-50010:')\n",
    "print('\\n'.join(w.orth_ for w in words[50000:50010])) "
   ]
  },
  {
   "cell_type": "markdown",
   "metadata": {},
   "source": [
    "We can focus on one meaning of *quickly* and find similar words if we average over related words:"
   ]
  },
  {
   "cell_type": "code",
   "execution_count": 98,
   "metadata": {
    "collapsed": false
   },
   "outputs": [
    {
     "name": "stdout",
     "output_type": "stream",
     "text": [
      "1-20:\n",
      "Swiftly\n",
      "swiftly\n",
      "QUICKLY\n",
      "Quickly\n",
      "quickly\n",
      "Rapidly\n",
      "rapidly\n",
      "Promptly\n",
      "promptly\n",
      "gracefully\n",
      "forcefully\n",
      "amicably\n",
      "expeditiously\n",
      "painlessly\n",
      "Effortlessly\n",
      "effortlessly\n",
      "precipitously\n",
      "stealthily\n",
      "hurriedly\n",
      "Methodically\n",
      "\n",
      "50-60:\n",
      "noisily\n",
      "impulsively\n",
      "Inexorably\n",
      "inexorably\n",
      "peaceably\n",
      "recklessly\n",
      "chaotically\n",
      "Unilaterally\n",
      "unilaterally\n",
      "Cautiously\n",
      "\n",
      "1000-1010:\n",
      "demographically\n",
      "graphically\n",
      "Intermittently\n",
      "intermittently\n",
      "Frustratingly\n",
      "frustratingly\n",
      "Brightly\n",
      "brightly\n",
      "blatantly\n",
      "Philosophically\n"
     ]
    }
   ],
   "source": [
    "say_adverbs = ['quickly', 'swiftly', 'speedily', 'rapidly']\n",
    "say_vector = sum(nlp.vocab[adverb].repvec for adverb in say_adverbs) / len(say_adverbs)\n",
    "words.sort(key=lambda w: cosine(w.repvec, say_vector))\n",
    "words.reverse()\n",
    "print('1-20:')\n",
    "print('\\n'.join(w.orth_ for w in words[0:20]))\n",
    "print('\\n50-60:')\n",
    "print('\\n'.join(w.orth_ for w in words[50:60]))\n",
    "print('\\n1000-1010:')\n",
    "print('\\n'.join(w.orth_ for w in words[1000:1010]))\n"
   ]
  },
  {
   "cell_type": "markdown",
   "metadata": {},
   "source": [
    "Let's look at other parts of speech from our original sentence:"
   ]
  },
  {
   "cell_type": "code",
   "execution_count": 123,
   "metadata": {
    "collapsed": false
   },
   "outputs": [
    {
     "name": "stdout",
     "output_type": "stream",
     "text": [
      "\"I ran to the WALL quickly,\" FRANK explained to the ROBOT.\n"
     ]
    }
   ],
   "source": [
    "from spacy.parts_of_speech import NOUN\n",
    "\n",
    "is_noun = lambda tok: tok.pos == NOUN and tok.prob < probs[-1000]\n",
    "print u''.join(tok.string.upper() if is_noun(tok) else tok.string for tok in tokens)\n",
    "nouns = [tok for tok in tokens if is_noun(tok)]"
   ]
  },
  {
   "cell_type": "markdown",
   "metadata": {},
   "source": [
    "How closely does one test noun match each noun found in our sentence? That is, if we say, \"barrier\", is it closer to \"wall,\" \"Frank\", or \"robot\"? How about \"car\" or \"agent\"?"
   ]
  },
  {
   "cell_type": "code",
   "execution_count": 152,
   "metadata": {
    "collapsed": false
   },
   "outputs": [
    {
     "data": {
      "text/plain": [
       "<matplotlib.legend.Legend at 0x115e8bed0>"
      ]
     },
     "execution_count": 152,
     "metadata": {},
     "output_type": "execute_result"
    },
    {
     "data": {
      "image/png": "[encoded data removed]",
      "text/plain": [
       "<matplotlib.figure.Figure at 0x115cd2590>"
      ]
     },
     "metadata": {},
     "output_type": "display_data"
    }
   ],
   "source": [
    "import numpy as np\n",
    "import matplotlib.pyplot as plt\n",
    "%matplotlib inline\n",
    "\n",
    "barrier = nlp('barrier')[0]\n",
    "car = nlp('car')[0]\n",
    "agent = nlp('android')[0]\n",
    "test_nouns = nouns + [barrier] + [car] + [agent]\n",
    "\n",
    "n = len(test_nouns)\n",
    "barrier_relations = np.zeros(n)\n",
    "car_relations = np.zeros(n)\n",
    "agent_relations = np.zeros(n)\n",
    "for i, noun in enumerate(test_nouns):\n",
    "    barrier_relations[i] = cosine(barrier.repvec, noun.repvec)\n",
    "    car_relations[i] = cosine(car.repvec, noun.repvec) \n",
    "    agent_relations[i] = cosine(agent.repvec, noun.repvec) \n",
    "\n",
    "\n",
    "fig, ax = plt.subplots(figsize=(10,8))\n",
    "\n",
    "index = np.arange(n)\n",
    "bar_width = 0.2\n",
    "\n",
    "opacity = 0.4\n",
    "\n",
    "rects1 = plt.bar(index, barrier_relations, bar_width,\n",
    "                 alpha=opacity,\n",
    "                 color='b',\n",
    "                 label=barrier.orth_)\n",
    "\n",
    "rects2 = plt.bar(index + bar_width, car_relations, bar_width,\n",
    "                 alpha=opacity,\n",
    "                 color='r',\n",
    "                 label=car.orth_)\n",
    "\n",
    "rects3 = plt.bar(index + 2 * bar_width, agent_relations, bar_width,\n",
    "                 alpha=opacity,\n",
    "                 color='g',\n",
    "                 label=agent.orth_)\n",
    "\n",
    "labels = [tok.orth_ for tok in test_nouns]\n",
    "\n",
    "plt.xlabel('Test Word')\n",
    "plt.ylabel('Similarity')\n",
    "plt.title('Similarity of words')\n",
    "plt.xticks(index + bar_width, labels)\n",
    "plt.legend()"
   ]
  },
  {
   "cell_type": "code",
   "execution_count": 1,
   "metadata": {
    "collapsed": false
   },
   "outputs": [
    {
     "data": {
      "text/html": [
       "<link href='http://fonts.googleapis.com/css?family=Roboto:100,100italic,500,300,300italic,400' rel='stylesheet' type='text/css'>\n",
       "\n",
       "<style>\n",
       "    div.cell{\n",
       "        width:800px;\n",
       "        margin-left:16% !important;\n",
       "        margin-right:auto;\n",
       "    }\n",
       "    h1, h2, h3, h4 {\n",
       "        font-family: \"Roboto\", \"wingdings\", sans-serif;\n",
       "    }\n",
       "    h1{\n",
       "        font-weight: 500;\n",
       "    }\n",
       "    h2{\n",
       "        font-weight: 400;\n",
       "    }\n",
       "    h3{\n",
       "        font-weight: 300 !important; \n",
       "/*         font-style: italic; */\n",
       "    }    \n",
       "    h4{\n",
       "        font-weight: 300 !important;\n",
       "        font-style: italic;\n",
       "        margin-top:12px;\n",
       "        margin-bottom: 3px;\n",
       "       }\n",
       "    div.text_cell_render{\n",
       "        font-family: \"HelveticaNeue-light\", \"Helvetica Neue\", Arial, Helvetica, Geneva, sans-serif;\n",
       "        line-height: 145%;\n",
       "        font-size: 120%;\n",
       "        width:800px;\n",
       "        margin-left:auto;\n",
       "        margin-right:auto;\n",
       "    }\n",
       "    .CodeMirror{\n",
       "            font-family: \"Source Code Pro\", source-code-pro,Consolas, monospace;\n",
       "    }\n",
       "    .prompt{\n",
       "        display: None;\n",
       "    }\n",
       "    .text_cell_render h5 {\n",
       "        font-weight: 300;\n",
       "        font-size: 22pt;\n",
       "        color: #4057A1;\n",
       "        font-style: italic;\n",
       "        margin-bottom: .5em;\n",
       "        margin-top: 0.5em;\n",
       "        display: block;\n",
       "    }\n",
       "    \n",
       "    .warning{\n",
       "        color: rgb( 240, 20, 20 )\n",
       "        }  \n",
       "</style>\n",
       "<script>\n",
       "    MathJax.Hub.Config({\n",
       "                        TeX: {\n",
       "                           extensions: [\"AMSmath.js\"]\n",
       "                           },\n",
       "                tex2jax: {\n",
       "                    inlineMath: [ ['$','$'], [\"\\\\(\",\"\\\\)\"] ],\n",
       "                    displayMath: [ ['$$','$$'], [\"\\\\[\",\"\\\\]\"] ]\n",
       "                },\n",
       "                displayAlign: 'center', // Change this to 'center' to center equations.\n",
       "                \"HTML-CSS\": {\n",
       "                    styles: {'.MathJax_Display': {\"margin\": 4}}\n",
       "                }\n",
       "        });\n",
       "</script>"
      ],
      "text/plain": [
       "<IPython.core.display.HTML object>"
      ]
     },
     "execution_count": 1,
     "metadata": {},
     "output_type": "execute_result"
    }
   ],
   "source": [
    "from IPython.core.display import HTML\n",
    "\n",
    "# Borrowed style from Probabilistic Programming and Bayesian Methods for Hackers\n",
    "def css_styling():\n",
    "    styles = open(\"../styles/custom.css\", \"r\").read()\n",
    "    return HTML(styles)\n",
    "css_styling()\n"
   ]
  },
  {
   "cell_type": "code",
   "execution_count": null,
   "metadata": {
    "collapsed": true
   },
   "outputs": [],
   "source": []
  }
 ],
 "metadata": {
  "kernelspec": {
   "display_name": "Python 2",
   "language": "python",
   "name": "python2"
  },
  "language_info": {
   "codemirror_mode": {
    "name": "ipython",
    "version": 2
   },
   "file_extension": ".py",
   "mimetype": "text/x-python",
   "name": "python",
   "nbconvert_exporter": "python",
   "pygments_lexer": "ipython2",
   "version": "2.7.10"
  }
 },
 "nbformat": 4,
 "nbformat_minor": 0
}
